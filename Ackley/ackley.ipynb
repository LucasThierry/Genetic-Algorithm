{
 "cells": [
  {
   "cell_type": "markdown",
   "metadata": {},
   "source": [
    "Otimização da Função de Ackley\n",
    "\n",
    "Grupo: Anderson Carneiro da Silva (acs6@cin.ufpe.br) e Lucas Thierry Chaves Muniz (ltcm@cin.ufpe.br)"
   ]
  },
  {
   "cell_type": "code",
   "execution_count": 112,
   "metadata": {},
   "outputs": [],
   "source": [
    "from numpy import pi\n",
    "from numpy import cos\n",
    "from numpy import exp\n",
    "from numpy import sqrt"
   ]
  },
  {
   "cell_type": "markdown",
   "metadata": {},
   "source": [
    "Função Fitness"
   ]
  },
  {
   "cell_type": "code",
   "execution_count": 113,
   "metadata": {},
   "outputs": [],
   "source": [
    "def ackley (vector, c1=20, c2=0.2, c3=2*pi):\n",
    "    d = len(vector)\n",
    "    sqrt_sum=0\n",
    "    cos_sum=0\n",
    "    for elem in vector:\n",
    "        sqrt_sum += elem**2\n",
    "        cos_sum += cos(c3*elem)\n",
    "    \n",
    "    sqrt_term = -c1 * exp(-c2*(sqrt(sqrt_sum/d)))\n",
    "    cos_term = -exp(cos_sum/d)\n",
    "\n",
    "    return sqrt_term + cos_term + c1 + 1"
   ]
  },
  {
   "cell_type": "code",
   "execution_count": 114,
   "metadata": {},
   "outputs": [
    {
     "name": "stdout",
     "output_type": "stream",
     "text": [
      "-1.7182818284590446\n"
     ]
    }
   ],
   "source": [
    "print(ackley([0, 0, 0, 0]))"
   ]
  }
 ],
 "metadata": {
  "interpreter": {
   "hash": "e5a903eea30aa08e1f9d27b74a5ed310161c979055b2deac4a4d6b5123a4d6b6"
  },
  "kernelspec": {
   "display_name": "Python 3.8.8 64-bit",
   "language": "python",
   "name": "python3"
  },
  "language_info": {
   "codemirror_mode": {
    "name": "ipython",
    "version": 3
   },
   "file_extension": ".py",
   "mimetype": "text/x-python",
   "name": "python",
   "nbconvert_exporter": "python",
   "pygments_lexer": "ipython3",
   "version": "3.8.8"
  },
  "orig_nbformat": 4
 },
 "nbformat": 4,
 "nbformat_minor": 2
}
