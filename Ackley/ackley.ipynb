{
 "cells": [
  {
   "cell_type": "markdown",
   "metadata": {},
   "source": [
    "Otimização da Função de Ackley\n",
    "\n",
    "Grupo: Anderson Carneiro da Silva (acs6@cin.ufpe.br) e Lucas Thierry Chaves Muniz (ltcm@cin.ufpe.br)"
   ]
  },
  {
   "cell_type": "code",
   "execution_count": 46,
   "metadata": {},
   "outputs": [],
   "source": [
    "from numpy import pi\n",
    "from numpy import cos\n",
    "from numpy import exp\n",
    "from numpy import sqrt"
   ]
  },
  {
   "cell_type": "markdown",
   "metadata": {},
   "source": [
    "Função Fitness"
   ]
  },
  {
   "cell_type": "code",
   "execution_count": 47,
   "metadata": {},
   "outputs": [],
   "source": [
    "def ackley (vector, c1=20, c2=0.2, c3=2*pi):\n",
    "    d = len(vector)\n",
    "    sqrt_sum=0\n",
    "    cos_sum=0\n",
    "    for elem in vector:\n",
    "        sqrt_sum += elem**2\n",
    "        cos_sum += cos(c3*elem)\n",
    "    \n",
    "    sqrt_term = -c1 * exp(-c2*(sqrt(sqrt_sum/d)))\n",
    "    cos_term = -exp(cos_sum/d)\n",
    "\n",
    "    return sqrt_term + cos_term + c1 + exp(1)"
   ]
  },
  {
   "cell_type": "code",
   "execution_count": 48,
   "metadata": {},
   "outputs": [
    {
     "name": "stdout",
     "output_type": "stream",
     "text": [
      "4.440892098500626e-16\n"
     ]
    }
   ],
   "source": [
    "print(ackley([0, 0, 0, 0]))"
   ]
  },
  {
   "cell_type": "code",
   "execution_count": 49,
   "metadata": {},
   "outputs": [],
   "source": [
    "import numpy as np\n",
    "from abc import ABC, abstractmethod\n",
    "\n",
    "\n",
    "class Individual(ABC):\n",
    "    def __init__(self, value=None, init_params=None):\n",
    "        if value is not None:\n",
    "            self.value = value\n",
    "        else:\n",
    "            self.value = self._random_init(init_params)\n",
    "\n",
    "    @abstractmethod\n",
    "    def pair(self, other, pair_params):\n",
    "        pass\n",
    "\n",
    "    @abstractmethod\n",
    "    def mutate(self, mutate_params):\n",
    "        pass\n",
    "\n",
    "    @abstractmethod\n",
    "    def _random_init(self, init_params):\n",
    "        pass\n",
    "\n",
    "\n",
    "class Optimization(Individual):\n",
    "    def pair(self, other, pair_params):\n",
    "        return Optimization(pair_params['alpha'] * self.value + (1 - pair_params['alpha']) * other.value)\n",
    "\n",
    "    def discreet_recomb(self, other):\n",
    "        for i in range(len(self.value)):\n",
    "            choice = np.random.randint(2)\n",
    "            if choice==1:\n",
    "                self.value[i] = other.value[i]\n",
    "        return Optimization(self.value)\n",
    "\n",
    "    def intermediate_recomb(self, other, init_params, d=0.25):\n",
    "            lower_bound=init_params['lower_bound']\n",
    "            upper_bound=init_params['upper_bound']\n",
    "            for i in range(len(self.value)):\n",
    "                spread = self.value[i]-other.value[i]\n",
    "                inter_min_bound = (min(self.value[i], other.value[i]))-d*spread\n",
    "                inter_max_bound = (max(self.value[i], other.value[i]))+d*spread\n",
    "                if inter_min_bound < lower_bound:\n",
    "                    inter_min_bound = lower_bound\n",
    "                if inter_max_bound > upper_bound:\n",
    "                    inter_max_bound = upper_bound\n",
    "                self.value[i] = np.random.uniform(inter_min_bound, inter_max_bound)\n",
    "            return Optimization(self.value)\n",
    "\n",
    "    def mutate(self, mutate_params):\n",
    "        self.value += np.random.normal(0, mutate_params['rate'], mutate_params['dim'])\n",
    "        for i in range(len(self.value)):\n",
    "            if self.value[i] < mutate_params['lower_bound']:\n",
    "                self.value[i] = mutate_params['lower_bound']\n",
    "            elif self.value[i] > mutate_params['upper_bound']:\n",
    "                self.value[i] = mutate_params['upper_bound']\n",
    "\n",
    "    def _random_init(self, init_params):\n",
    "        return np.random.uniform(init_params['lower_bound'], init_params['upper_bound'], init_params['dim'])\n",
    "\n",
    "\n",
    "class Population:\n",
    "    def __init__(self, size, fitness, individual_class, init_params):\n",
    "        self.fitness = fitness\n",
    "        self.individuals = [individual_class(init_params=init_params) for _ in range(size)]\n",
    "        self.individuals.sort(key=lambda x: self.fitness(x))\n",
    "\n",
    "    def replace(self, new_individuals):\n",
    "        size = len(self.individuals)\n",
    "        self.individuals.extend(new_individuals)\n",
    "        self.individuals.sort(key=lambda x: self.fitness(x))\n",
    "        self.individuals = self.individuals[-size:]\n",
    "\n",
    "    def replace_comma(self, new_individuals):\n",
    "        size = len(self.individuals)\n",
    "        new_individuals.sort(key=lambda x: self.fitness(x))\n",
    "        self.individuals = new_individuals[-size:]\n",
    "\n",
    "    \n",
    "    def makeWheel(self, population):\n",
    "        wheel = []\n",
    "        total = sum(fitness(p) for p in population)\n",
    "        top = 0\n",
    "        for p in population:\n",
    "            f = fitness(p)/total\n",
    "            wheel.append((top, top+f, p))\n",
    "            top += f\n",
    "        return wheel\n",
    "\n",
    "    def binSearch(self, wheel, num):\n",
    "        mid = len(wheel)//2\n",
    "        low, high, answer = wheel[mid]\n",
    "        if low<=num<=high:\n",
    "            return answer\n",
    "        elif high < num:\n",
    "            return self.binSearch(wheel[mid+1:], num)\n",
    "        else:\n",
    "            return self.binSearch(wheel[:mid], num)\n",
    "\n",
    "    def select(self, wheel, N):\n",
    "        stepSize = 1.0/N\n",
    "        answer = []\n",
    "        r = np.random.random()\n",
    "        answer.append(self.binSearch(wheel, r))\n",
    "        while len(answer) < N:\n",
    "            r += stepSize\n",
    "            if r>1:\n",
    "                r %= 1\n",
    "            answer.append(self.binSearch(wheel, r))\n",
    "        return answer\n",
    "\n",
    "    def get_parents(self, n_offsprings, parent_select):\n",
    "        if (parent_select == 'elite'):\n",
    "            mothers = self.individuals[-2 * n_offsprings::2]\n",
    "            fathers = self.individuals[-2 * n_offsprings + 1::2]\n",
    "\n",
    "        if (parent_select == 'stochastic'):\n",
    "            popWheel = self.makeWheel(self.individuals)\n",
    "            parents = self.select(popWheel, n_offsprings)\n",
    "\n",
    "            mothers = parents[0::int(len(parents)/2)]\n",
    "            fathers = parents[int(((len(parents)/2)+1))::len(parents)]\n",
    "\n",
    "        return mothers, fathers\n",
    "\n",
    "\n",
    "class Evolution:\n",
    "    def __init__(self, pool_size, fitness, individual_class, n_offsprings, survival_select, \\\n",
    "         recomb_type, pair_params, mutate_params, init_params, parent_select):\n",
    "        self.pair_params = pair_params\n",
    "        self.mutate_params = mutate_params\n",
    "        self.pool = Population(pool_size, fitness, individual_class, init_params)\n",
    "        self.n_offsprings = n_offsprings\n",
    "        self.survival_select=survival_select\n",
    "        self.recomb_type=recomb_type\n",
    "        self.init_params=init_params\n",
    "        self.parent_select = parent_select\n",
    "\n",
    "    def step(self):\n",
    "        mothers, fathers = self.pool.get_parents(self.n_offsprings, self.parent_select)\n",
    "        offsprings = []\n",
    "\n",
    "        for mother, father in zip(mothers, fathers):\n",
    "            if(self.recomb_type == 'simple_pair'):\n",
    "                offspring = mother.pair(father, self.pair_params)\n",
    "            if(self.recomb_type == 'discreet'):\n",
    "                offspring = mother.discreet_recomb(father)\n",
    "            if(self.recomb_type == 'intermediate'):\n",
    "                offspring = mother.intermediate_recomb(father, self.init_params)\n",
    "            offspring.mutate(self.mutate_params)\n",
    "            offsprings.append(offspring)\n",
    "\n",
    "        if(self.survival_select=='comma'):\n",
    "            self.pool.replace_comma(offsprings)\n",
    "        elif(self.survival_select=='plus'):\n",
    "            self.pool.replace(offsprings)"
   ]
  },
  {
   "cell_type": "code",
   "execution_count": 50,
   "metadata": {},
   "outputs": [
    {
     "name": "stdout",
     "output_type": "stream",
     "text": [
      "[ 0.30471336 -0.05166679 -0.03398658 -0.0706044   0.07843124 -0.12388182\n",
      " -0.03488913  0.23332267  0.16382506 -0.0956825  -0.07889234 -0.44040832\n",
      " -0.02543409 -0.12972154 -0.06647754  0.12381218 -0.26175308 -0.01475312\n",
      " -0.11480543  0.01534598 -0.26487224  0.07104574 -0.01489323  0.2088704\n",
      " -0.14046039  0.10172976  0.06273877  0.09074058  0.0373282   0.06911012]\n",
      "0.7136815334926295\n"
     ]
    },
    {
     "data": {
      "image/png": "[encoded data removed]",
      "text/plain": [
       "<Figure size 432x288 with 1 Axes>"
      ]
     },
     "metadata": {
      "needs_background": "light"
     },
     "output_type": "display_data"
    },
    {
     "name": "stdout",
     "output_type": "stream",
     "text": [
      "[-0.21612931 -0.15324229  0.02087817 -0.04201063  0.01737676  0.24295212\n",
      "  0.12257704  0.03305481 -0.0376771  -0.06252833  0.28273995 -0.35095653\n",
      " -0.12755896 -0.12243065 -0.13519665  0.02813467  0.1717959   0.07126418\n",
      "  0.19382124  0.00237911 -0.08574356 -0.32754898 -0.05539936  0.1022078\n",
      " -0.10035113  0.00923864  0.13736786 -0.29515774  0.05467249 -0.03297468]\n",
      "0.6784817333021884\n"
     ]
    },
    {
     "data": {
      "image/png": "[encoded data removed]",
      "text/plain": [
       "<Figure size 432x288 with 1 Axes>"
      ]
     },
     "metadata": {
      "needs_background": "light"
     },
     "output_type": "display_data"
    },
    {
     "name": "stdout",
     "output_type": "stream",
     "text": [
      "[-1.21737330e-01 -5.23957981e-02  2.36749484e-01  1.45557925e-04\n",
      " -1.14666378e-01 -2.31366705e-01  2.05956867e-02  2.39864615e-02\n",
      "  4.31508366e-02  1.29875875e-01  4.15513304e-02 -7.59943496e-02\n",
      "  8.28837910e-02 -1.46111235e-01 -3.44522819e-03  3.26375261e-02\n",
      "  3.58466805e-01 -6.23246569e-02  3.63561883e-02 -4.60109263e-02\n",
      " -4.29774139e-01 -1.50606355e-02 -1.56932840e-01 -3.19196442e-02\n",
      "  3.42582058e-01  2.51112772e-01  2.47912839e-01 -1.48319314e-02\n",
      " -2.40960312e-01  6.38556718e-02]\n",
      "0.6380683507874128\n"
     ]
    },
    {
     "data": {
      "image/png": "[encoded data removed]",
      "text/plain": [
       "<Figure size 432x288 with 1 Axes>"
      ]
     },
     "metadata": {
      "needs_background": "light"
     },
     "output_type": "display_data"
    },
    {
     "name": "stdout",
     "output_type": "stream",
     "text": [
      "simple_pair Recombination - plus Survival - average best fitness 0.6767438725274101\n",
      "Highest fitness 0.7136815334926295\n"
     ]
    }
   ],
   "source": [
    "import matplotlib.pyplot as plt\n",
    "\n",
    "def fitness(vector):\n",
    "    return 1/ackley(vector.value)\n",
    "\n",
    "# Parameters\n",
    "xi_min = -15\n",
    "xi_max = 15\n",
    "dimensions = 30\n",
    "generations = 50000\n",
    "tries_per_params = 3\n",
    "parent_select_param = 'stochastic'\n",
    "\n",
    "variable_params_dict_default = {'pool_size': 30, 'fitness': fitness, 'individual_class': Optimization, \\\n",
    "    'n_offsprings': 15, 'survival_select': 'plus', 'recomb_type': 'intermediate', 'parent_select': parent_select_param}\n",
    "pair_params_dict_default = {'alpha': 0.5}\n",
    "mutate_params_dict_default = {'lower_bound': xi_min, 'upper_bound': xi_max, 'rate': 0.25, 'dim': dimensions}\n",
    "init_params_dict_default = {'lower_bound': xi_min, 'upper_bound': xi_max, 'dim': dimensions}\n",
    "\n",
    "# List for \"grid search\"\n",
    "\n",
    "# surv_list = ['comma', 'plus']\n",
    "# recomb_list = ['simple_pair', 'discreet', 'intermediate']\n",
    "\n",
    "surv_list = ['plus']\n",
    "recomb_list = ['simple_pair']\n",
    "\n",
    "for recomb in recomb_list:\n",
    "    for surv in surv_list:\n",
    "        tries_fitness_list=[]\n",
    "        for z in range(tries_per_params):\n",
    "            variable_params_dict = variable_params_dict_default\n",
    "            pair_params_dict = pair_params_dict_default\n",
    "            mutate_params_dict = mutate_params_dict_default\n",
    "            init_params_dict = init_params_dict_default\n",
    "            variable_params_dict['survival_select'] = surv\n",
    "            variable_params_dict['recomb_type'] = recomb\n",
    "            evo = Evolution(\n",
    "                pool_size = variable_params_dict['pool_size'], fitness = variable_params_dict['fitness'], \\\n",
    "                    individual_class = variable_params_dict['individual_class'], \\\n",
    "                        n_offsprings = variable_params_dict['n_offsprings'], \\\n",
    "                            survival_select = variable_params_dict['survival_select'], \\\n",
    "                                recomb_type = variable_params_dict['recomb_type'], \\\n",
    "                                    parent_select = variable_params_dict['parent_select'],\n",
    "                pair_params=pair_params_dict,\n",
    "                mutate_params=mutate_params_dict,\n",
    "                init_params=init_params_dict\n",
    "            )\n",
    "\n",
    "            maxFitnessValues = []\n",
    "            meanFitnessValues = []\n",
    "            for i in range(generations):\n",
    "                evo.step()\n",
    "                best_individual = evo.pool.individuals[-1]\n",
    "                best_fitness = fitness(best_individual)\n",
    "                maxFitnessValues.append(best_fitness)\n",
    "                avg = 0\n",
    "                for e in evo.pool.individuals:\n",
    "                    avg += fitness(e)\n",
    "                meanFitnessValues.append(avg/(len(evo.pool.individuals)))\n",
    "                if best_fitness > (1/0.1):\n",
    "                    break\n",
    "\n",
    "            tries_fitness_list.append(best_fitness)\n",
    "            print(best_individual.value)\n",
    "            print(best_fitness)\n",
    "\n",
    "            plt.plot(maxFitnessValues, color='red')\n",
    "            plt.plot(meanFitnessValues, color='green')\n",
    "            plt.xlabel('Generation')\n",
    "            plt.ylabel('Max / Average Fitness')\n",
    "            plt.title('Max and Average fitness over Generations')\n",
    "\n",
    "            plt.show()\n",
    "        print(f'{recomb} Recombination - {surv} Survival - average best fitness {np.mean(tries_fitness_list)}')\n",
    "        print(f'Highest fitness {max(tries_fitness_list)}')"
   ]
  }
 ],
 "metadata": {
  "interpreter": {
   "hash": "e5a903eea30aa08e1f9d27b74a5ed310161c979055b2deac4a4d6b5123a4d6b6"
  },
  "kernelspec": {
   "display_name": "Python 3.8.8 64-bit",
   "language": "python",
   "name": "python3"
  },
  "language_info": {
   "codemirror_mode": {
    "name": "ipython",
    "version": 3
   },
   "file_extension": ".py",
   "mimetype": "text/x-python",
   "name": "python",
   "nbconvert_exporter": "python",
   "pygments_lexer": "ipython3",
   "version": "3.8.8"
  },
  "orig_nbformat": 4
 },
 "nbformat": 4,
 "nbformat_minor": 2
}
