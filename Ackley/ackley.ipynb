{
 "cells": [
  {
   "cell_type": "markdown",
   "metadata": {},
   "source": [
    "Otimização da Função de Ackley\n",
    "\n",
    "Grupo: Anderson Carneiro da Silva (acs6@cin.ufpe.br) e Lucas Thierry Chaves Muniz (ltcm@cin.ufpe.br)"
   ]
  },
  {
   "cell_type": "code",
   "execution_count": 395,
   "metadata": {},
   "outputs": [],
   "source": [
    "from numpy import pi\n",
    "from numpy import cos\n",
    "from numpy import exp\n",
    "from numpy import sqrt"
   ]
  },
  {
   "cell_type": "markdown",
   "metadata": {},
   "source": [
    "Função Fitness"
   ]
  },
  {
   "cell_type": "code",
   "execution_count": 396,
   "metadata": {},
   "outputs": [],
   "source": [
    "def ackley (vector, c1=20, c2=0.2, c3=2*pi):\n",
    "    d = len(vector)\n",
    "    sqrt_sum=0\n",
    "    cos_sum=0\n",
    "    for elem in vector:\n",
    "        sqrt_sum += elem**2\n",
    "        cos_sum += cos(c3*elem)\n",
    "    \n",
    "    sqrt_term = -c1 * exp(-c2*(sqrt(sqrt_sum/d)))\n",
    "    cos_term = -exp(cos_sum/d)\n",
    "\n",
    "    return sqrt_term + cos_term + c1 + exp(1)"
   ]
  },
  {
   "cell_type": "code",
   "execution_count": 397,
   "metadata": {},
   "outputs": [
    {
     "name": "stdout",
     "output_type": "stream",
     "text": [
      "4.440892098500626e-16\n"
     ]
    }
   ],
   "source": [
    "print(ackley([0, 0, 0, 0]))"
   ]
  },
  {
   "cell_type": "code",
   "execution_count": 398,
   "metadata": {},
   "outputs": [],
   "source": [
    "import numpy as np\n",
    "from abc import ABC, abstractmethod\n",
    "\n",
    "\n",
    "class Individual(ABC):\n",
    "    def __init__(self, value=None, init_params=None):\n",
    "        if value is not None:\n",
    "            self.value = value\n",
    "        else:\n",
    "            self.value = self._random_init(init_params)\n",
    "\n",
    "    @abstractmethod\n",
    "    def pair(self, other, pair_params):\n",
    "        pass\n",
    "\n",
    "    @abstractmethod\n",
    "    def mutate(self, mutate_params):\n",
    "        pass\n",
    "\n",
    "    @abstractmethod\n",
    "    def _random_init(self, init_params):\n",
    "        pass\n",
    "\n",
    "\n",
    "class Optimization(Individual):\n",
    "    def pair(self, other, pair_params):\n",
    "        return Optimization(pair_params['alpha'] * self.value + (1 - pair_params['alpha']) * other.value)\n",
    "\n",
    "    def mutate(self, mutate_params):\n",
    "        self.value += np.random.normal(0, mutate_params['rate'], mutate_params['dim'])\n",
    "        for i in range(len(self.value)):\n",
    "            if self.value[i] < mutate_params['lower_bound']:\n",
    "                self.value[i] = mutate_params['lower_bound']\n",
    "            elif self.value[i] > mutate_params['upper_bound']:\n",
    "                self.value[i] = mutate_params['upper_bound']\n",
    "\n",
    "    def _random_init(self, init_params):\n",
    "        return np.random.uniform(init_params['lower_bound'], init_params['upper_bound'], init_params['dim'])\n",
    "\n",
    "\n",
    "class Population:\n",
    "    def __init__(self, size, fitness, individual_class, init_params):\n",
    "        self.fitness = fitness\n",
    "        self.individuals = [individual_class(init_params=init_params) for _ in range(size)]\n",
    "        self.individuals.sort(key=lambda x: self.fitness(x))\n",
    "\n",
    "    def replace(self, new_individuals):\n",
    "        size = len(self.individuals)\n",
    "        self.individuals.extend(new_individuals)\n",
    "        self.individuals.sort(key=lambda x: self.fitness(x))\n",
    "        self.individuals = self.individuals[-size:]\n",
    "\n",
    "    def get_parents(self, n_offsprings):\n",
    "        mothers = self.individuals[-2 * n_offsprings::2]\n",
    "        fathers = self.individuals[-2 * n_offsprings + 1::2]\n",
    "\n",
    "        return mothers, fathers\n",
    "\n",
    "\n",
    "class Evolution:\n",
    "    def __init__(self, pool_size, fitness, individual_class, n_offsprings, pair_params, mutate_params, init_params):\n",
    "        self.pair_params = pair_params\n",
    "        self.mutate_params = mutate_params\n",
    "        self.pool = Population(pool_size, fitness, individual_class, init_params)\n",
    "        self.n_offsprings = n_offsprings\n",
    "\n",
    "    def step(self):\n",
    "        mothers, fathers = self.pool.get_parents(self.n_offsprings)\n",
    "        offsprings = []\n",
    "\n",
    "        for mother, father in zip(mothers, fathers):\n",
    "            offspring = mother.pair(father, self.pair_params)\n",
    "            offspring.mutate(self.mutate_params)\n",
    "            offsprings.append(offspring)\n",
    "\n",
    "        self.pool.replace(offsprings)"
   ]
  },
  {
   "cell_type": "code",
   "execution_count": 399,
   "metadata": {},
   "outputs": [
    {
     "name": "stdout",
     "output_type": "stream",
     "text": [
      "[ 0.03318334 -0.28181356 -0.22966924  0.44918688  0.09724939 -0.30565734\n",
      "  0.12348574  0.29518097  0.05577446  0.09947656  0.2867826   0.14394422\n",
      "  0.04374062 -0.03034431  0.48296733 -0.20960107  0.22452008 -0.17628631\n",
      "  0.04137988 -0.38861538  0.06093708  0.41861342  0.05814747  0.31189986\n",
      "  0.09405904  0.06950534 -0.18343794 -0.16784396 -0.59488192 -0.44721182]\n",
      "0.3995740853323494\n"
     ]
    }
   ],
   "source": [
    "def fitness(vector):\n",
    "    return 1/ackley(vector.value)\n",
    "\n",
    "\n",
    "xi_min = -15\n",
    "xi_max = 15\n",
    "dimensions = 30\n",
    "\n",
    "evo = Evolution(\n",
    "    pool_size=30, fitness=fitness, individual_class=Optimization, n_offsprings=15,\n",
    "    pair_params={'alpha': 0.5},\n",
    "    mutate_params={'lower_bound': xi_min, 'upper_bound': xi_max, 'rate': 0.5, 'dim': dimensions},\n",
    "    init_params={'lower_bound': xi_min, 'upper_bound': xi_max, 'dim': dimensions}\n",
    ")\n",
    "generations = 10000\n",
    "\n",
    "for i in range(generations):\n",
    "    evo.step()\n",
    "\n",
    "best_individual = evo.pool.individuals[-1]\n",
    "print(best_individual.value)\n",
    "print(fitness(best_individual))"
   ]
  }
 ],
 "metadata": {
  "interpreter": {
   "hash": "e5a903eea30aa08e1f9d27b74a5ed310161c979055b2deac4a4d6b5123a4d6b6"
  },
  "kernelspec": {
   "display_name": "Python 3.8.8 64-bit",
   "language": "python",
   "name": "python3"
  },
  "language_info": {
   "codemirror_mode": {
    "name": "ipython",
    "version": 3
   },
   "file_extension": ".py",
   "mimetype": "text/x-python",
   "name": "python",
   "nbconvert_exporter": "python",
   "pygments_lexer": "ipython3",
   "version": "3.8.8"
  },
  "orig_nbformat": 4
 },
 "nbformat": 4,
 "nbformat_minor": 2
}
