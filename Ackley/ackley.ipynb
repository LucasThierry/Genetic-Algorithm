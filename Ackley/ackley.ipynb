{
 "cells": [
  {
   "cell_type": "markdown",
   "metadata": {},
   "source": [
    "Otimização da Função de Ackley\n",
    "\n",
    "Grupo: Anderson Carneiro da Silva (acs6@cin.ufpe.br) e Lucas Thierry Chaves Muniz (ltcm@cin.ufpe.br)"
   ]
  },
  {
   "cell_type": "code",
   "execution_count": 16,
   "metadata": {},
   "outputs": [],
   "source": [
    "from numpy import pi\n",
    "from numpy import cos\n",
    "from numpy import exp\n",
    "from numpy import sqrt"
   ]
  },
  {
   "cell_type": "markdown",
   "metadata": {},
   "source": [
    "Função Fitness"
   ]
  },
  {
   "cell_type": "code",
   "execution_count": 17,
   "metadata": {},
   "outputs": [],
   "source": [
    "def ackley (vector, c1=20, c2=0.2, c3=2*pi):\n",
    "    d = len(vector)\n",
    "    sqrt_sum=0\n",
    "    cos_sum=0\n",
    "    for elem in vector:\n",
    "        sqrt_sum += elem**2\n",
    "        cos_sum += cos(c3*elem)\n",
    "    \n",
    "    sqrt_term = -c1 * exp(-c2*(sqrt(sqrt_sum/d)))\n",
    "    cos_term = -exp(cos_sum/d)\n",
    "\n",
    "    return sqrt_term + cos_term + c1 + exp(1)"
   ]
  },
  {
   "cell_type": "code",
   "execution_count": 18,
   "metadata": {},
   "outputs": [
    {
     "name": "stdout",
     "output_type": "stream",
     "text": [
      "4.440892098500626e-16\n"
     ]
    }
   ],
   "source": [
    "print(ackley([0, 0, 0, 0]))"
   ]
  },
  {
   "cell_type": "code",
   "execution_count": 19,
   "metadata": {},
   "outputs": [],
   "source": [
    "import numpy as np\n",
    "from abc import ABC, abstractmethod\n",
    "\n",
    "\n",
    "class Individual(ABC):\n",
    "    def __init__(self, value=None, init_params=None):\n",
    "        if value is not None:\n",
    "            self.value = value\n",
    "        else:\n",
    "            self.value = self._random_init(init_params)\n",
    "\n",
    "    @abstractmethod\n",
    "    def pair(self, other, pair_params):\n",
    "        pass\n",
    "\n",
    "    @abstractmethod\n",
    "    def mutate(self, mutate_params):\n",
    "        pass\n",
    "\n",
    "    @abstractmethod\n",
    "    def _random_init(self, init_params):\n",
    "        pass\n",
    "\n",
    "\n",
    "class Optimization(Individual):\n",
    "    def pair(self, other, pair_params):\n",
    "        return Optimization(pair_params['alpha'] * self.value + (1 - pair_params['alpha']) * other.value)\n",
    "\n",
    "    def mutate(self, mutate_params):\n",
    "        self.value += np.random.normal(0, mutate_params['rate'], mutate_params['dim'])\n",
    "        for i in range(len(self.value)):\n",
    "            if self.value[i] < mutate_params['lower_bound']:\n",
    "                self.value[i] = mutate_params['lower_bound']\n",
    "            elif self.value[i] > mutate_params['upper_bound']:\n",
    "                self.value[i] = mutate_params['upper_bound']\n",
    "\n",
    "    def _random_init(self, init_params):\n",
    "        return np.random.uniform(init_params['lower_bound'], init_params['upper_bound'], init_params['dim'])\n",
    "\n",
    "\n",
    "class Population:\n",
    "    def __init__(self, size, fitness, individual_class, init_params):\n",
    "        self.fitness = fitness\n",
    "        self.individuals = [individual_class(init_params=init_params) for _ in range(size)]\n",
    "        self.individuals.sort(key=lambda x: self.fitness(x))\n",
    "\n",
    "    def replace(self, new_individuals):\n",
    "        size = len(self.individuals)\n",
    "        self.individuals.extend(new_individuals)\n",
    "        self.individuals.sort(key=lambda x: self.fitness(x))\n",
    "        self.individuals = self.individuals[-size:]\n",
    "\n",
    "    def get_parents(self, n_offsprings):\n",
    "        mothers = self.individuals[-2 * n_offsprings::2]\n",
    "        fathers = self.individuals[-2 * n_offsprings + 1::2]\n",
    "\n",
    "        return mothers, fathers\n",
    "\n",
    "\n",
    "class Evolution:\n",
    "    def __init__(self, pool_size, fitness, individual_class, n_offsprings, survival_select, pair_params, mutate_params, init_params):\n",
    "        self.pair_params = pair_params\n",
    "        self.mutate_params = mutate_params\n",
    "        self.pool = Population(pool_size, fitness, individual_class, init_params)\n",
    "        self.n_offsprings = n_offsprings\n",
    "        self.survival_select=survival_select\n",
    "\n",
    "    def step(self):\n",
    "        mothers, fathers = self.pool.get_parents(self.n_offsprings)\n",
    "        offsprings = []\n",
    "\n",
    "        for mother, father in zip(mothers, fathers):\n",
    "            offspring = mother.pair(father, self.pair_params)\n",
    "            offspring.mutate(self.mutate_params)\n",
    "            offsprings.append(offspring)\n",
    "            if(self.survival_select=='plus'):\n",
    "                offsprings.append(Optimization(mother.value))\n",
    "                offsprings.append(Optimization(father.value))\n",
    "\n",
    "        if(self.survival_select=='comma'):\n",
    "            self.pool.replace(offsprings)\n",
    "        elif(self.survival_select=='plus'):\n",
    "            self.pool.replace(offsprings)"
   ]
  },
  {
   "cell_type": "code",
   "execution_count": 20,
   "metadata": {},
   "outputs": [
    {
     "name": "stdout",
     "output_type": "stream",
     "text": [
      "[ 0.2351786   1.16869777 -0.23889359 -0.04277537  0.08296662 -0.10120102\n",
      "  0.01348354 -0.05431364  0.79860028 -0.22399718  0.06126839  0.22830242\n",
      " -0.05785574 -0.8978244   0.7796644  -0.12095286 -0.04052891  0.95244219\n",
      " -0.14833107  0.15169603 -0.04098997  0.08046448 -0.04992963 -0.44914736\n",
      "  0.29697698  0.03123265 -0.10524447  0.79864062 -0.57890327  0.07115664]\n",
      "0.3695668586798421\n"
     ]
    }
   ],
   "source": [
    "def fitness(vector):\n",
    "    return 1/ackley(vector.value)\n",
    "\n",
    "\n",
    "xi_min = -15\n",
    "xi_max = 15\n",
    "dimensions = 30\n",
    "\n",
    "evo = Evolution(\n",
    "    pool_size=30, fitness=fitness, individual_class=Optimization, n_offsprings=15, survival_select='plus',\n",
    "    pair_params={'alpha': 0.5},\n",
    "    mutate_params={'lower_bound': xi_min, 'upper_bound': xi_max, 'rate': 0.5, 'dim': dimensions},\n",
    "    init_params={'lower_bound': xi_min, 'upper_bound': xi_max, 'dim': dimensions}\n",
    ")\n",
    "generations = 10000\n",
    "\n",
    "for i in range(generations):\n",
    "    evo.step()\n",
    "\n",
    "best_individual = evo.pool.individuals[-1]\n",
    "print(best_individual.value)\n",
    "print(fitness(best_individual))"
   ]
  }
 ],
 "metadata": {
  "interpreter": {
   "hash": "e5a903eea30aa08e1f9d27b74a5ed310161c979055b2deac4a4d6b5123a4d6b6"
  },
  "kernelspec": {
   "display_name": "Python 3.8.8 64-bit",
   "language": "python",
   "name": "python3"
  },
  "language_info": {
   "codemirror_mode": {
    "name": "ipython",
    "version": 3
   },
   "file_extension": ".py",
   "mimetype": "text/x-python",
   "name": "python",
   "nbconvert_exporter": "python",
   "pygments_lexer": "ipython3",
   "version": "3.8.8"
  },
  "orig_nbformat": 4
 },
 "nbformat": 4,
 "nbformat_minor": 2
}
