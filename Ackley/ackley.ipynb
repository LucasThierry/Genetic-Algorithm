{
 "cells": [
  {
   "cell_type": "markdown",
   "metadata": {},
   "source": [
    "Otimização da Função de Ackley\n",
    "\n",
    "Grupo: Anderson Carneiro da Silva (acs6@cin.ufpe.br) e Lucas Thierry Chaves Muniz (ltcm@cin.ufpe.br)"
   ]
  },
  {
   "cell_type": "code",
   "execution_count": 21,
   "metadata": {},
   "outputs": [],
   "source": [
    "from numpy import pi\n",
    "from numpy import cos\n",
    "from numpy import exp\n",
    "from numpy import sqrt"
   ]
  },
  {
   "cell_type": "markdown",
   "metadata": {},
   "source": [
    "Função Fitness"
   ]
  },
  {
   "cell_type": "code",
   "execution_count": 22,
   "metadata": {},
   "outputs": [],
   "source": [
    "def ackley (vector, c1=20, c2=0.2, c3=2*pi):\n",
    "    d = len(vector)\n",
    "    sqrt_sum=0\n",
    "    cos_sum=0\n",
    "    for elem in vector:\n",
    "        sqrt_sum += elem**2\n",
    "        cos_sum += cos(c3*elem)\n",
    "    \n",
    "    sqrt_term = -c1 * exp(-c2*(sqrt(sqrt_sum/d)))\n",
    "    cos_term = -exp(cos_sum/d)\n",
    "\n",
    "    return sqrt_term + cos_term + c1 + exp(1)"
   ]
  },
  {
   "cell_type": "code",
   "execution_count": 23,
   "metadata": {},
   "outputs": [
    {
     "name": "stdout",
     "output_type": "stream",
     "text": [
      "4.440892098500626e-16\n"
     ]
    }
   ],
   "source": [
    "print(ackley([0, 0, 0, 0]))"
   ]
  },
  {
   "cell_type": "code",
   "execution_count": 24,
   "metadata": {},
   "outputs": [],
   "source": [
    "import numpy as np\n",
    "from abc import ABC, abstractmethod\n",
    "\n",
    "\n",
    "class Individual(ABC):\n",
    "    def __init__(self, value=None, init_params=None):\n",
    "        if value is not None:\n",
    "            self.value = value\n",
    "        else:\n",
    "            self.value = self._random_init(init_params)\n",
    "\n",
    "    @abstractmethod\n",
    "    def pair(self, other, pair_params):\n",
    "        pass\n",
    "\n",
    "    @abstractmethod\n",
    "    def mutate(self, mutate_params):\n",
    "        pass\n",
    "\n",
    "    @abstractmethod\n",
    "    def _random_init(self, init_params):\n",
    "        pass\n",
    "\n",
    "\n",
    "class Optimization(Individual):\n",
    "    def pair(self, other, pair_params):\n",
    "        return Optimization(pair_params['alpha'] * self.value + (1 - pair_params['alpha']) * other.value)\n",
    "\n",
    "    def discreet_recomb(self, other):\n",
    "        for i in range(len(self.value)):\n",
    "            choice = np.random.randint(2)\n",
    "            if choice==1:\n",
    "                self.value[i] = other.value[i]\n",
    "        return Optimization(self.value)\n",
    "\n",
    "    def intermediate_recomb(self, other, init_params, d=0.25):\n",
    "            lower_bound=init_params['lower_bound']\n",
    "            upper_bound=init_params['upper_bound']\n",
    "            for i in range(len(self.value)):\n",
    "                spread = self.value[i]-other.value[i]\n",
    "                inter_min_bound = (min(self.value[i], other.value[i]))-d*spread\n",
    "                inter_max_bound = (max(self.value[i], other.value[i]))+d*spread\n",
    "                if inter_min_bound < lower_bound:\n",
    "                    inter_min_bound = lower_bound\n",
    "                if inter_max_bound > upper_bound:\n",
    "                    inter_max_bound = upper_bound\n",
    "                self.value[i] = np.random.uniform(inter_min_bound, inter_max_bound)\n",
    "            return Optimization(self.value)\n",
    "\n",
    "    def mutate(self, mutate_params):\n",
    "        self.value += np.random.normal(0, mutate_params['rate'], mutate_params['dim'])\n",
    "        for i in range(len(self.value)):\n",
    "            if self.value[i] < mutate_params['lower_bound']:\n",
    "                self.value[i] = mutate_params['lower_bound']\n",
    "            elif self.value[i] > mutate_params['upper_bound']:\n",
    "                self.value[i] = mutate_params['upper_bound']\n",
    "\n",
    "    def _random_init(self, init_params):\n",
    "        return np.random.uniform(init_params['lower_bound'], init_params['upper_bound'], init_params['dim'])\n",
    "\n",
    "\n",
    "class Population:\n",
    "    def __init__(self, size, fitness, individual_class, init_params):\n",
    "        self.fitness = fitness\n",
    "        self.individuals = [individual_class(init_params=init_params) for _ in range(size)]\n",
    "        self.individuals.sort(key=lambda x: self.fitness(x))\n",
    "\n",
    "    def replace(self, new_individuals):\n",
    "        size = len(self.individuals)\n",
    "        self.individuals.extend(new_individuals)\n",
    "        self.individuals.sort(key=lambda x: self.fitness(x))\n",
    "        self.individuals = self.individuals[-size:]\n",
    "\n",
    "    def replace_comma(self, new_individuals):\n",
    "        size = len(self.individuals)\n",
    "        new_individuals.sort(key=lambda x: self.fitness(x))\n",
    "        self.individuals = new_individuals[-size:]\n",
    "\n",
    "    def get_parents(self, n_offsprings):\n",
    "        mothers = self.individuals[-2 * n_offsprings::2]\n",
    "        fathers = self.individuals[-2 * n_offsprings + 1::2]\n",
    "\n",
    "        return mothers, fathers\n",
    "\n",
    "\n",
    "class Evolution:\n",
    "    def __init__(self, pool_size, fitness, individual_class, n_offsprings, survival_select, \\\n",
    "         recomb_type, pair_params, mutate_params, init_params):\n",
    "        self.pair_params = pair_params\n",
    "        self.mutate_params = mutate_params\n",
    "        self.pool = Population(pool_size, fitness, individual_class, init_params)\n",
    "        self.n_offsprings = n_offsprings\n",
    "        self.survival_select=survival_select\n",
    "        self.recomb_type=recomb_type\n",
    "        self.init_params=init_params\n",
    "\n",
    "    def step(self):\n",
    "        mothers, fathers = self.pool.get_parents(self.n_offsprings)\n",
    "        offsprings = []\n",
    "\n",
    "        for mother, father in zip(mothers, fathers):\n",
    "            if(self.recomb_type == 'simple_pair'):\n",
    "                offspring = mother.pair(father, self.pair_params)\n",
    "            if(self.recomb_type == 'discreet'):\n",
    "                offspring = mother.discreet_recomb(father)\n",
    "            if(self.recomb_type == 'intermediate'):\n",
    "                offspring = mother.intermediate_recomb(father, self.init_params)\n",
    "            offspring.mutate(self.mutate_params)\n",
    "            offsprings.append(offspring)\n",
    "\n",
    "        if(self.survival_select=='comma'):\n",
    "            self.pool.replace_comma(offsprings)\n",
    "        elif(self.survival_select=='plus'):\n",
    "            self.pool.replace(offsprings)"
   ]
  },
  {
   "cell_type": "code",
   "execution_count": 25,
   "metadata": {},
   "outputs": [
    {
     "name": "stdout",
     "output_type": "stream",
     "text": [
      "[-0.01292196 -0.07802456  0.21472934  0.15623591  0.11484201 -0.0377163\n",
      "  0.03127721 -0.08605613 -0.13335281 -0.09346825 -0.02185654 -0.08900829\n",
      " -0.08186372 -0.00303321  0.18629886 -0.31258553  0.01103148  0.10600571\n",
      " -0.02729242  0.20797097  0.00098033 -0.01811998  0.41155799  0.05133905\n",
      "  0.06494242 -0.10981522 -0.08111166  0.12273421 -0.20504228  0.03511886]\n",
      "0.8010383270934223\n"
     ]
    },
    {
     "data": {
      "image/png": "[encoded data removed]",
      "text/plain": [
       "<Figure size 432x288 with 1 Axes>"
      ]
     },
     "metadata": {
      "needs_background": "light"
     },
     "output_type": "display_data"
    },
    {
     "name": "stdout",
     "output_type": "stream",
     "text": [
      "[ 0.11392268  0.00093504  0.08381431 -0.09000368  0.08090248  0.06206603\n",
      "  0.00046985 -0.00340414 -0.01539483 -0.35089213  0.15381736 -0.07840544\n",
      "  0.12090654  0.1948749  -0.0354608  -0.00931468  0.18900154  0.17724139\n",
      " -0.13221618 -0.22909465  0.09377559 -0.0594645  -0.18238922  0.01410732\n",
      "  0.08497716  0.14209891 -0.13440885 -0.02717528  0.39750309 -0.0112299 ]\n",
      "0.7547249852559614\n"
     ]
    },
    {
     "data": {
      "image/png": "[encoded data removed]",
      "text/plain": [
       "<Figure size 432x288 with 1 Axes>"
      ]
     },
     "metadata": {
      "needs_background": "light"
     },
     "output_type": "display_data"
    },
    {
     "name": "stdout",
     "output_type": "stream",
     "text": [
      "[ 0.25875403  0.12872159 -0.04062681 -0.0406931   0.21000949 -0.00141707\n",
      "  0.05857651 -0.12613469 -0.10059902 -0.25156973  0.01900943  0.00035857\n",
      "  0.0603646  -0.13578564 -0.04328814  0.08770997  0.05679218 -0.05481247\n",
      " -0.22220149  0.00879123 -0.05885966  0.09472448 -0.31376915  0.03262966\n",
      "  0.01492529  0.12158865  0.04813066 -0.08834436  0.16149754 -0.07392524]\n",
      "0.8798166094373934\n"
     ]
    },
    {
     "data": {
      "image/png": "[encoded data removed]",
      "text/plain": [
       "<Figure size 432x288 with 1 Axes>"
      ]
     },
     "metadata": {
      "needs_background": "light"
     },
     "output_type": "display_data"
    },
    {
     "name": "stdout",
     "output_type": "stream",
     "text": [
      "simple_pair Recombination - plus Survival - average best fitness 0.8118599739289257\n",
      "Highest fitness 0.8798166094373934\n"
     ]
    }
   ],
   "source": [
    "import matplotlib.pyplot as plt\n",
    "\n",
    "def fitness(vector):\n",
    "    return 1/ackley(vector.value)\n",
    "\n",
    "\n",
    "xi_min = -15\n",
    "xi_max = 15\n",
    "dimensions = 30\n",
    "generations = 10000\n",
    "tries_per_params = 3\n",
    "\n",
    "variable_params_dict_default = {'pool_size': 30, 'fitness': fitness, 'individual_class': Optimization, \\\n",
    "    'n_offsprings': 15, 'survival_select': 'plus', 'recomb_type': 'intermediate'}\n",
    "pair_params_dict_default = {'alpha': 0.5}\n",
    "mutate_params_dict_default = {'lower_bound': xi_min, 'upper_bound': xi_max, 'rate': 0.25, 'dim': dimensions}\n",
    "init_params_dict_default = {'lower_bound': xi_min, 'upper_bound': xi_max, 'dim': dimensions}\n",
    "\n",
    "# surv_list = ['comma', 'plus']\n",
    "# recomb_list = ['simple_pair', 'discreet', 'intermediate']\n",
    "\n",
    "surv_list = ['plus']\n",
    "recomb_list = ['simple_pair']\n",
    "\n",
    "for recomb in recomb_list:\n",
    "    for surv in surv_list:\n",
    "        tries_fitness_list=[]\n",
    "        for z in range(tries_per_params):\n",
    "            variable_params_dict = variable_params_dict_default\n",
    "            pair_params_dict = pair_params_dict_default\n",
    "            mutate_params_dict = mutate_params_dict_default\n",
    "            init_params_dict = init_params_dict_default\n",
    "            variable_params_dict['survival_select'] = surv\n",
    "            variable_params_dict['recomb_type'] = recomb\n",
    "            evo = Evolution(\n",
    "                pool_size = variable_params_dict['pool_size'], fitness = variable_params_dict['fitness'], \\\n",
    "                    individual_class = variable_params_dict['individual_class'], \\\n",
    "                        n_offsprings = variable_params_dict['n_offsprings'], \\\n",
    "                            survival_select = variable_params_dict['survival_select'], \\\n",
    "                                recomb_type = variable_params_dict['recomb_type'],\n",
    "                pair_params=pair_params_dict,\n",
    "                mutate_params=mutate_params_dict,\n",
    "                init_params=init_params_dict\n",
    "            )\n",
    "\n",
    "            maxFitnessValues = []\n",
    "            meanFitnessValues = []\n",
    "            for i in range(generations):\n",
    "                evo.step()\n",
    "                best_individual = evo.pool.individuals[-1]\n",
    "                best_fitness = fitness(best_individual)\n",
    "                maxFitnessValues.append(best_fitness)\n",
    "                avg = 0\n",
    "                for e in evo.pool.individuals:\n",
    "                    avg += fitness(e)\n",
    "                meanFitnessValues.append(avg/(len(evo.pool.individuals)))\n",
    "                if best_fitness > (1/0.1):\n",
    "                    break\n",
    "\n",
    "            tries_fitness_list.append(best_fitness)\n",
    "            print(best_individual.value)\n",
    "            print(best_fitness)\n",
    "\n",
    "            plt.plot(maxFitnessValues, color='red')\n",
    "            plt.plot(meanFitnessValues, color='green')\n",
    "            plt.xlabel('Generation')\n",
    "            plt.ylabel('Max / Average Fitness')\n",
    "            plt.title('Max and Average fitness over Generations')\n",
    "\n",
    "            plt.show()\n",
    "        print(f'{recomb} Recombination - {surv} Survival - average best fitness {np.mean(tries_fitness_list)}')\n",
    "        print(f'Highest fitness {max(tries_fitness_list)}')"
   ]
  }
 ],
 "metadata": {
  "interpreter": {
   "hash": "e5a903eea30aa08e1f9d27b74a5ed310161c979055b2deac4a4d6b5123a4d6b6"
  },
  "kernelspec": {
   "display_name": "Python 3.8.8 64-bit",
   "language": "python",
   "name": "python3"
  },
  "language_info": {
   "codemirror_mode": {
    "name": "ipython",
    "version": 3
   },
   "file_extension": ".py",
   "mimetype": "text/x-python",
   "name": "python",
   "nbconvert_exporter": "python",
   "pygments_lexer": "ipython3",
   "version": "3.8.8"
  },
  "orig_nbformat": 4
 },
 "nbformat": 4,
 "nbformat_minor": 2
}
