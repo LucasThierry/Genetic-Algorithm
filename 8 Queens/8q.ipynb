{
 "cells": [
  {
   "cell_type": "markdown",
   "metadata": {},
   "source": [
    "Projeto das 8 Rainhas\n",
    "\n",
    "Grupo: Anderson Carneiro da Silva (acs6@cin.ufpe.br) e Lucas Thierry Chaves Muniz (ltcm@cin.ufpe.br)"
   ]
  },
  {
   "cell_type": "markdown",
   "metadata": {},
   "source": [
    "Através do uso da biblioteca geneticalgorithm (https://pypi.org/project/geneticalgorithm/) e uma função fitness criada por nós mesmos, iremos iniciar os experimentos."
   ]
  },
  {
   "cell_type": "code",
   "execution_count": 67,
   "metadata": {},
   "outputs": [],
   "source": [
    "import numpy as np\n",
    "from geneticalgorithm import geneticalgorithm as ga"
   ]
  },
  {
   "cell_type": "markdown",
   "metadata": {},
   "source": [
    "Definição da função fitness (f)"
   ]
  },
  {
   "cell_type": "code",
   "execution_count": 68,
   "metadata": {},
   "outputs": [],
   "source": [
    "def diag_hit(myX,myY,otherX,otherY):\n",
    "    supX=otherX\n",
    "    supY=otherY\n",
    "    while supX>=0 and supY>=0:\n",
    "        if supX==myX and supY==myY:\n",
    "            return 1\n",
    "        supX-=1\n",
    "        supY-=1\n",
    "    supX=otherX\n",
    "    supY=otherY\n",
    "    while supX<=8 and supY<=8:\n",
    "        if supX==myX and supY==myY:\n",
    "            return 1\n",
    "        supX+=1\n",
    "        supY+=1\n",
    "    supX=otherX\n",
    "    supY=otherY\n",
    "    while supX<=0 and supY<=8:\n",
    "        if supX==myX and supY==myY:\n",
    "            return 1\n",
    "        supX-=1\n",
    "        supY+=1\n",
    "    supX=otherX\n",
    "    supY=otherY\n",
    "    while supX<=8 and supY<=0:\n",
    "        if supX==myX and supY==myY:\n",
    "            return 1\n",
    "        supX+=1\n",
    "        supY-=1\n",
    "    return 0\n",
    "\n",
    "def check_hit(myX,myY,otherX,otherY):\n",
    "    hits = 0\n",
    "    if myY==otherY:\n",
    "        hits+=1\n",
    "    elif diag_hit(myX,myY,otherX,otherY):\n",
    "        hits+=1\n",
    "    return hits\n",
    "    \n",
    "\n",
    "def f(X):\n",
    "    index = 0\n",
    "    failures = 0\n",
    "    for row in X:\n",
    "        index_aux = 0\n",
    "        for row_aux in X:\n",
    "            #print(row_aux)\n",
    "            if index!=index_aux:\n",
    "                failures += check_hit(index,row,index_aux,row_aux)\n",
    "            index_aux +=1\n",
    "        index+=1\n",
    "    return failures"
   ]
  },
  {
   "cell_type": "markdown",
   "metadata": {},
   "source": [
    "Criamos os limites do genoma com 8 posições e 8 valores possíveis para cada célula"
   ]
  },
  {
   "cell_type": "markdown",
   "metadata": {},
   "source": [
    "Uma pequena modificação (linha 411) é feita na biblioteca geneticalalgorithm para possibilitar a execução\n",
    "\n",
    "t+=1\n",
    "if self.best_function < 1:\n",
    "    print(f'The best possible solution was found after {t} iterations')\n",
    "    t=(self.iterate)+1"
   ]
  },
  {
   "cell_type": "markdown",
   "metadata": {},
   "source": [
    "Crossfill realizado através de inserir o array do parente 2 invertido desde que nenhum elemento se repita, até completar as 8 dimensões."
   ]
  },
  {
   "cell_type": "code",
   "execution_count": 69,
   "metadata": {},
   "outputs": [
    {
     "name": "stdout",
     "output_type": "stream",
     "text": [
      "__________________________________________________ 0.1% GA is running...The best possible solution was found after 7 iterations\n",
      " The best solution found:\n",
      " [5. 7. 6. 2. 4. 3. 1. 8.]\n",
      "\n",
      " Objective function:\n",
      " 0.0\n"
     ]
    },
    {
     "data": {
      "image/png": "[encoded data removed]",
      "text/plain": [
       "<Figure size 432x288 with 1 Axes>"
      ]
     },
     "metadata": {
      "needs_background": "light"
     },
     "output_type": "display_data"
    }
   ],
   "source": [
    "varbound=np.array([[1,8]]*8)\n",
    "\n",
    "algorithm_param = {'max_num_iteration': 10000,\\\n",
    "                   'population_size':100,\\\n",
    "                   'mutation_probability':0.4,\\\n",
    "                   'elit_ratio': 0.01,\\\n",
    "                   'crossover_probability': 0.9,\\\n",
    "                   'parents_portion': 0.3,\\\n",
    "                   'crossover_type':'crossfill',\\\n",
    "                   'max_iteration_without_improv':None}\n",
    "\n",
    "model=ga(function=f,dimension=8,variable_type='int',variable_boundaries=varbound \\\n",
    "    ,algorithm_parameters=algorithm_param)\n",
    "\n",
    "model.run()"
   ]
  },
  {
   "cell_type": "markdown",
   "metadata": {},
   "source": [
    "Our perfomance analysis will be done on this spreadsheet\n",
    "\n",
    "https://docs.google.com/spreadsheets/d/1Fx5tUaBwyWtwadSyj2v7SBS7CZQOcN3G8w3kJ7MBBaw/edit?usp=sharing"
   ]
  }
 ],
 "metadata": {
  "interpreter": {
   "hash": "e5a903eea30aa08e1f9d27b74a5ed310161c979055b2deac4a4d6b5123a4d6b6"
  },
  "kernelspec": {
   "display_name": "Python 3.8.8 64-bit",
   "name": "python3"
  },
  "language_info": {
   "codemirror_mode": {
    "name": "ipython",
    "version": 3
   },
   "file_extension": ".py",
   "mimetype": "text/x-python",
   "name": "python",
   "nbconvert_exporter": "python",
   "pygments_lexer": "ipython3",
   "version": "3.8.8"
  },
  "orig_nbformat": 4
 },
 "nbformat": 4,
 "nbformat_minor": 2
}
