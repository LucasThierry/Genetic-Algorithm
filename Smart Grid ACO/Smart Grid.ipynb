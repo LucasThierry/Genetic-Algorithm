{
 "cells": [
  {
   "cell_type": "markdown",
   "metadata": {},
   "source": [
    "### ACO (Ant Colony Optimization) algorithm for Smart Grids"
   ]
  },
  {
   "cell_type": "markdown",
   "metadata": {},
   "source": [
    "Intro"
   ]
  },
  {
   "cell_type": "code",
   "execution_count": 185,
   "metadata": {},
   "outputs": [],
   "source": [
    "interval_num = 24\n",
    "modes_num = 3\n",
    "num_nodes = interval_num*modes_num"
   ]
  },
  {
   "cell_type": "code",
   "execution_count": 186,
   "metadata": {},
   "outputs": [],
   "source": [
    "import networkx as nx\n",
    "import numpy as np\n",
    "import math\n",
    "import pandas as pd\n",
    "import matplotlib.pyplot as plt\n",
    "import random\n",
    "from statistics import mean"
   ]
  },
  {
   "cell_type": "code",
   "execution_count": 187,
   "metadata": {},
   "outputs": [],
   "source": [
    "np.seterr(divide='ignore', invalid='ignore')\n",
    "None"
   ]
  },
  {
   "cell_type": "markdown",
   "metadata": {},
   "source": [
    "### Generate random X and Y coordinates"
   ]
  },
  {
   "cell_type": "code",
   "execution_count": 188,
   "metadata": {},
   "outputs": [
    {
     "name": "stdout",
     "output_type": "stream",
     "text": [
      "[0, 0, 0, 1, 1, 1, 2, 2, 2, 3, 3, 3, 4, 4, 4, 5, 5, 5, 6, 6, 6, 7, 7, 7, 8, 8, 8, 9, 9, 9, 10, 10, 10, 11, 11, 11, 12, 12, 12, 13, 13, 13, 14, 14, 14, 15, 15, 15, 16, 16, 16, 17, 17, 17, 18, 18, 18, 19, 19, 19, 20, 20, 20, 21, 21, 21, 22, 22, 22, 23, 23, 23]\n",
      "[0, 1, 2, 0, 1, 2, 0, 1, 2, 0, 1, 2, 0, 1, 2, 0, 1, 2, 0, 1, 2, 0, 1, 2, 0, 1, 2, 0, 1, 2, 0, 1, 2, 0, 1, 2, 0, 1, 2, 0, 1, 2, 0, 1, 2, 0, 1, 2, 0, 1, 2, 0, 1, 2, 0, 1, 2, 0, 1, 2, 0, 1, 2, 0, 1, 2, 0, 1, 2, 0, 1, 2]\n"
     ]
    }
   ],
   "source": [
    "xs = []\n",
    "ys = []\n",
    "pheromone = []\n",
    "start_interval = -1\n",
    "for _ in range(interval_num):\n",
    "    start_interval += 1\n",
    "    start_mode = 0\n",
    "    for _ in range(modes_num):\n",
    "        xs.append(start_interval)\n",
    "        ys.append(start_mode)\n",
    "        pheromone.append(1)\n",
    "        start_mode += 1\n",
    "print(xs)\n",
    "print(ys)\n",
    "schedule_map = list(zip(xs, ys, pheromone))"
   ]
  },
  {
   "cell_type": "markdown",
   "metadata": {},
   "source": [
    "### Generate the distances between all nodes"
   ]
  },
  {
   "cell_type": "markdown",
   "metadata": {},
   "source": [
    "### ACO parameters"
   ]
  },
  {
   "cell_type": "code",
   "execution_count": 189,
   "metadata": {},
   "outputs": [],
   "source": [
    "max_iterations = 100\n",
    "num_ants = 20\n",
    "\n",
    "rho = 0.05 # evaporation rate .. this determines how much pheromones are lost at each iteration\n",
    "alpha = 1 # pheromone exponential parameter\n",
    "beta = 1 # desirability exponential parameter"
   ]
  },
  {
   "cell_type": "markdown",
   "metadata": {},
   "source": [
    "### Feasibility Function"
   ]
  },
  {
   "cell_type": "code",
   "execution_count": 190,
   "metadata": {},
   "outputs": [],
   "source": [
    "cost_table = [300, 0, 0] # Mode 0 is fossil fuel, Mode 1 is battery, Mode 2 is Solar\n",
    "generation_table = [15, 10, 7]\n",
    "battery_capacity = 30 # kw/interval\n",
    "battery_start = battery_capacity # Is battery charged on schedule start?\n",
    "unit_comsumption = 5 # kw\n",
    "when_is_solar_available = list(range(5, 18))\n",
    "solar = 2\n",
    "battery = 1\n",
    "fossil_fuel = 0\n",
    "\n",
    "def is_schedule_viable (actual_schedule):\n",
    "    battery = battery_capacity\n",
    "    actual_interval = 0\n",
    "\n",
    "    # print(f'actual schedule {actual_schedule}')\n",
    "    for interval_mode in actual_schedule:\n",
    "        mode = interval_mode\n",
    "        if generation_table[mode] < unit_comsumption:\n",
    "            return False\n",
    "        elif mode == solar:\n",
    "            if actual_interval not in when_is_solar_available:\n",
    "                return False\n",
    "            else:\n",
    "                battery += generation_table[mode]-unit_comsumption\n",
    "        elif mode == battery:\n",
    "            if unit_comsumption > battery:\n",
    "                return False\n",
    "            else:\n",
    "                battery += -unit_comsumption\n",
    "        elif mode == fossil_fuel:\n",
    "            battery += generation_table[mode]-unit_comsumption\n",
    "            if battery > battery_capacity:\n",
    "                battery = battery_capacity\n",
    "        actual_interval += 1\n",
    "    \n",
    "    return True\n"
   ]
  },
  {
   "cell_type": "markdown",
   "metadata": {},
   "source": [
    "### ACO functions"
   ]
  },
  {
   "cell_type": "code",
   "execution_count": 191,
   "metadata": {},
   "outputs": [],
   "source": [
    "def create_colony(num_ants):\n",
    "    current_schedule_all = []\n",
    "    for i in range(num_ants):\n",
    "        current_schedule = []\n",
    "        \n",
    "        actual_interval = 0\n",
    "        impossible_modes = []\n",
    "        while actual_interval < interval_num:\n",
    "            # print(f'{actual_interval} intervals')\n",
    "            possible_schedules = []\n",
    "            possible_schedules_weight = []\n",
    "            for modes in schedule_map:\n",
    "                if modes[0] == actual_interval and modes[1] not in impossible_modes:\n",
    "                    possible_schedules.append(modes[1])\n",
    "                    possible_schedules_weight.append(modes[2])\n",
    "            if possible_schedules == []:\n",
    "                impossible_modes = []\n",
    "                actual_interval += -1\n",
    "                current_schedule.pop()\n",
    "            else:\n",
    "                chosen_schedule = random.choices(possible_schedules, possible_schedules_weight)\n",
    "                trial_schedule = current_schedule.copy()\n",
    "                trial_schedule.append(chosen_schedule[0])\n",
    "                # print(f' trial {trial_schedule}')\n",
    "                viable = is_schedule_viable(trial_schedule)\n",
    "                # print(viable)\n",
    "                if viable:\n",
    "                    chosen_schedule = trial_schedule\n",
    "                    impossible_modes = []\n",
    "                    current_schedule = trial_schedule\n",
    "                    actual_interval += 1\n",
    "                else:\n",
    "                    impossible_modes.append(chosen_schedule[0])\n",
    "        \n",
    "        current_schedule_all.append(current_schedule)\n",
    "    \n",
    "    return current_schedule_all\n",
    " "
   ]
  },
  {
   "cell_type": "markdown",
   "metadata": {},
   "source": [
    "### Main loop of ACO"
   ]
  },
  {
   "cell_type": "code",
   "execution_count": 192,
   "metadata": {},
   "outputs": [
    {
     "name": "stdout",
     "output_type": "stream",
     "text": [
      "shortest tour [0, 1, 1, 1, 0, 1, 1, 1, 1, 1, 2, 1, 2, 2, 2, 2, 2, 1, 1, 1, 1, 0, 0, 0]\n",
      "length 1500\n",
      "shortest tour [0, 1, 1, 1, 0, 1, 1, 1, 1, 1, 2, 1, 2, 2, 2, 2, 2, 1, 1, 1, 1, 0, 0, 0]\n",
      "length 1500\n",
      "shortest tour [1, 0, 1, 1, 1, 2, 1, 2, 0, 1, 2, 1, 1, 2, 2, 2, 1, 0, 0, 1, 1, 1, 1, 0]\n",
      "length 1500\n",
      "shortest tour [1, 0, 1, 1, 1, 2, 1, 2, 0, 1, 2, 1, 1, 2, 2, 2, 1, 0, 0, 1, 1, 1, 1, 0]\n",
      "length 1500\n",
      "shortest tour [1, 0, 1, 1, 1, 2, 1, 2, 0, 1, 2, 1, 1, 2, 2, 2, 1, 0, 0, 1, 1, 1, 1, 0]\n",
      "length 1500\n",
      "shortest tour [1, 0, 1, 1, 1, 2, 1, 1, 1, 1, 1, 1, 1, 1, 2, 1, 1, 2, 1, 1, 0, 1, 0, 1]\n",
      "length 900\n",
      "shortest tour [1, 0, 1, 1, 1, 2, 1, 1, 1, 1, 1, 1, 1, 1, 2, 1, 1, 2, 1, 1, 0, 1, 0, 1]\n",
      "length 900\n",
      "shortest tour [1, 0, 1, 1, 1, 2, 1, 1, 1, 1, 1, 1, 1, 1, 2, 1, 1, 2, 1, 1, 0, 1, 0, 1]\n",
      "length 900\n",
      "shortest tour [1, 0, 1, 1, 1, 2, 1, 1, 1, 1, 1, 1, 1, 1, 2, 1, 1, 2, 1, 1, 0, 1, 0, 1]\n",
      "length 900\n",
      "shortest tour [1, 0, 1, 1, 1, 2, 1, 1, 1, 1, 1, 1, 1, 1, 2, 1, 1, 2, 1, 1, 0, 1, 0, 1]\n",
      "length 900\n",
      "shortest tour [1, 0, 1, 1, 1, 2, 1, 1, 1, 1, 1, 1, 1, 1, 2, 1, 1, 2, 1, 1, 0, 1, 0, 1]\n",
      "length 900\n",
      "shortest tour [1, 0, 1, 1, 1, 2, 1, 1, 1, 1, 1, 1, 1, 1, 2, 1, 1, 2, 1, 1, 0, 1, 0, 1]\n",
      "length 900\n",
      "shortest tour [1, 0, 1, 1, 1, 2, 1, 1, 1, 1, 1, 1, 1, 1, 2, 1, 1, 2, 1, 1, 0, 1, 0, 1]\n",
      "length 900\n",
      "shortest tour [1, 0, 1, 1, 1, 2, 1, 1, 1, 1, 1, 1, 1, 1, 2, 1, 1, 2, 1, 1, 0, 1, 0, 1]\n",
      "length 900\n",
      "shortest tour [1, 0, 1, 1, 1, 2, 1, 1, 1, 1, 1, 1, 1, 1, 2, 1, 1, 2, 1, 1, 0, 1, 0, 1]\n",
      "length 900\n",
      "shortest tour [1, 0, 1, 1, 1, 2, 1, 1, 1, 1, 1, 1, 1, 1, 2, 1, 1, 2, 1, 1, 0, 1, 0, 1]\n",
      "length 900\n",
      "shortest tour [1, 0, 1, 1, 1, 2, 1, 1, 1, 1, 1, 1, 1, 1, 2, 1, 1, 2, 1, 1, 0, 1, 0, 1]\n",
      "length 900\n",
      "shortest tour [1, 0, 1, 1, 1, 2, 1, 1, 1, 1, 1, 1, 1, 1, 2, 1, 1, 2, 1, 1, 0, 1, 0, 1]\n",
      "length 900\n",
      "shortest tour [1, 0, 1, 1, 1, 2, 1, 1, 1, 1, 1, 1, 1, 1, 2, 1, 1, 2, 1, 1, 0, 1, 0, 1]\n",
      "length 900\n",
      "shortest tour [1, 0, 1, 1, 1, 2, 1, 1, 1, 1, 1, 1, 1, 1, 2, 1, 1, 2, 1, 1, 0, 1, 0, 1]\n",
      "length 900\n",
      "shortest tour [1, 0, 1, 1, 1, 2, 1, 1, 1, 1, 1, 1, 1, 1, 2, 1, 1, 2, 1, 1, 0, 1, 0, 1]\n",
      "length 900\n",
      "shortest tour [1, 0, 1, 1, 1, 2, 1, 1, 1, 1, 1, 1, 1, 1, 2, 1, 1, 2, 1, 1, 0, 1, 0, 1]\n",
      "length 900\n",
      "shortest tour [1, 0, 1, 1, 1, 2, 1, 1, 1, 1, 1, 1, 1, 1, 2, 1, 1, 2, 1, 1, 0, 1, 0, 1]\n",
      "length 900\n",
      "shortest tour [1, 0, 1, 1, 1, 2, 1, 1, 1, 1, 1, 1, 1, 1, 2, 1, 1, 2, 1, 1, 0, 1, 0, 1]\n",
      "length 900\n",
      "shortest tour [1, 0, 1, 1, 1, 2, 1, 1, 1, 1, 1, 1, 1, 1, 2, 1, 1, 2, 1, 1, 0, 1, 0, 1]\n",
      "length 900\n",
      "shortest tour [1, 0, 1, 1, 1, 2, 1, 1, 1, 1, 1, 1, 1, 1, 2, 1, 1, 2, 1, 1, 0, 1, 0, 1]\n",
      "length 900\n",
      "shortest tour [1, 0, 1, 1, 1, 2, 1, 1, 1, 1, 1, 1, 1, 1, 2, 1, 1, 2, 1, 1, 0, 1, 0, 1]\n",
      "length 900\n",
      "shortest tour [1, 0, 1, 1, 1, 2, 1, 1, 1, 1, 1, 1, 1, 1, 2, 1, 1, 2, 1, 1, 0, 1, 0, 1]\n",
      "length 900\n",
      "shortest tour [1, 0, 1, 1, 1, 2, 1, 1, 1, 1, 1, 1, 1, 1, 2, 1, 1, 2, 1, 1, 0, 1, 0, 1]\n",
      "length 900\n",
      "shortest tour [1, 0, 1, 1, 1, 2, 1, 1, 1, 1, 1, 1, 1, 1, 2, 1, 1, 2, 1, 1, 0, 1, 0, 1]\n",
      "length 900\n",
      "shortest tour [1, 0, 1, 1, 1, 2, 1, 1, 1, 1, 1, 1, 1, 1, 2, 1, 1, 2, 1, 1, 0, 1, 0, 1]\n",
      "length 900\n",
      "shortest tour [1, 0, 1, 1, 1, 2, 1, 1, 1, 1, 1, 1, 1, 1, 2, 1, 1, 2, 1, 1, 0, 1, 0, 1]\n",
      "length 900\n",
      "shortest tour [1, 0, 1, 1, 1, 2, 1, 1, 1, 1, 1, 1, 1, 1, 2, 1, 1, 2, 1, 1, 0, 1, 0, 1]\n",
      "length 900\n",
      "shortest tour [1, 0, 1, 1, 1, 2, 1, 1, 1, 1, 1, 1, 1, 1, 2, 1, 1, 2, 1, 1, 0, 1, 0, 1]\n",
      "length 900\n",
      "shortest tour [1, 0, 1, 1, 1, 2, 1, 1, 1, 1, 1, 1, 1, 1, 2, 1, 1, 2, 1, 1, 0, 1, 0, 1]\n",
      "length 900\n",
      "shortest tour [1, 0, 1, 1, 1, 2, 1, 1, 1, 1, 1, 1, 1, 1, 2, 1, 1, 2, 1, 1, 0, 1, 0, 1]\n",
      "length 900\n",
      "shortest tour [1, 0, 1, 1, 1, 2, 1, 1, 1, 1, 1, 1, 1, 1, 2, 1, 1, 2, 1, 1, 0, 1, 0, 1]\n",
      "length 900\n",
      "shortest tour [1, 0, 1, 1, 1, 2, 1, 1, 1, 1, 1, 1, 1, 1, 2, 1, 1, 2, 1, 1, 0, 1, 0, 1]\n",
      "length 900\n",
      "shortest tour [1, 0, 1, 1, 1, 2, 1, 1, 1, 1, 1, 1, 1, 1, 2, 1, 1, 2, 1, 1, 0, 1, 0, 1]\n",
      "length 900\n",
      "shortest tour [1, 0, 1, 1, 1, 2, 1, 1, 1, 1, 1, 1, 1, 1, 2, 1, 1, 2, 1, 1, 0, 1, 0, 1]\n",
      "length 900\n",
      "shortest tour [1, 0, 1, 1, 1, 2, 1, 1, 1, 1, 1, 1, 1, 1, 2, 1, 1, 2, 1, 1, 0, 1, 0, 1]\n",
      "length 900\n",
      "shortest tour [1, 0, 1, 1, 1, 2, 1, 1, 1, 1, 1, 1, 1, 1, 2, 1, 1, 2, 1, 1, 0, 1, 0, 1]\n",
      "length 900\n",
      "shortest tour [1, 0, 1, 1, 1, 2, 1, 1, 1, 1, 1, 1, 1, 1, 2, 1, 1, 2, 1, 1, 0, 1, 0, 1]\n",
      "length 900\n",
      "shortest tour [1, 0, 1, 1, 1, 2, 1, 1, 1, 1, 1, 1, 1, 1, 2, 1, 1, 2, 1, 1, 0, 1, 0, 1]\n",
      "length 900\n",
      "shortest tour [1, 0, 1, 1, 1, 2, 1, 1, 1, 1, 1, 1, 1, 1, 2, 1, 1, 2, 1, 1, 0, 1, 0, 1]\n",
      "length 900\n",
      "shortest tour [1, 0, 1, 1, 1, 2, 1, 1, 1, 1, 1, 1, 1, 1, 2, 1, 1, 2, 1, 1, 0, 1, 0, 1]\n",
      "length 900\n",
      "shortest tour [1, 0, 1, 1, 1, 2, 1, 1, 1, 1, 1, 1, 1, 1, 2, 1, 1, 2, 1, 1, 0, 1, 0, 1]\n",
      "length 900\n",
      "shortest tour [1, 0, 1, 1, 1, 2, 1, 1, 1, 1, 1, 1, 1, 1, 2, 1, 1, 2, 1, 1, 0, 1, 0, 1]\n",
      "length 900\n",
      "shortest tour [1, 0, 1, 1, 1, 2, 1, 1, 1, 1, 1, 1, 1, 1, 2, 1, 1, 2, 1, 1, 0, 1, 0, 1]\n",
      "length 900\n",
      "shortest tour [1, 0, 1, 1, 1, 2, 1, 1, 1, 1, 1, 1, 1, 1, 2, 1, 1, 2, 1, 1, 0, 1, 0, 1]\n",
      "length 900\n",
      "shortest tour [1, 0, 1, 1, 1, 2, 1, 1, 1, 1, 1, 1, 1, 1, 2, 1, 1, 2, 1, 1, 0, 1, 0, 1]\n",
      "length 900\n",
      "shortest tour [1, 0, 1, 1, 1, 2, 1, 1, 1, 1, 1, 1, 1, 1, 2, 1, 1, 2, 1, 1, 0, 1, 0, 1]\n",
      "length 900\n",
      "shortest tour [1, 0, 1, 1, 1, 2, 1, 1, 1, 1, 1, 1, 1, 1, 2, 1, 1, 2, 1, 1, 0, 1, 0, 1]\n",
      "length 900\n",
      "shortest tour [1, 0, 1, 1, 1, 2, 1, 1, 1, 1, 1, 1, 1, 1, 2, 1, 1, 2, 1, 1, 0, 1, 0, 1]\n",
      "length 900\n",
      "shortest tour [1, 0, 1, 1, 1, 2, 1, 1, 1, 1, 1, 1, 1, 1, 2, 1, 1, 2, 1, 1, 0, 1, 0, 1]\n",
      "length 900\n",
      "shortest tour [1, 0, 1, 1, 1, 2, 1, 1, 1, 1, 1, 1, 1, 1, 2, 1, 1, 2, 1, 1, 0, 1, 0, 1]\n",
      "length 900\n",
      "shortest tour [1, 0, 1, 1, 1, 2, 1, 1, 1, 1, 1, 1, 1, 1, 2, 1, 1, 2, 1, 1, 0, 1, 0, 1]\n",
      "length 900\n",
      "shortest tour [1, 0, 1, 1, 1, 2, 1, 1, 1, 1, 1, 1, 1, 1, 2, 1, 1, 2, 1, 1, 0, 1, 0, 1]\n",
      "length 900\n",
      "shortest tour [1, 0, 1, 1, 1, 2, 1, 1, 1, 1, 1, 1, 1, 1, 2, 1, 1, 2, 1, 1, 0, 1, 0, 1]\n",
      "length 900\n",
      "shortest tour [1, 0, 1, 1, 1, 2, 1, 1, 1, 1, 1, 1, 1, 1, 2, 1, 1, 2, 1, 1, 0, 1, 0, 1]\n",
      "length 900\n",
      "shortest tour [1, 0, 1, 1, 1, 2, 1, 1, 1, 1, 1, 1, 1, 1, 2, 1, 1, 2, 1, 1, 0, 1, 0, 1]\n",
      "length 900\n",
      "shortest tour [1, 0, 1, 1, 1, 2, 1, 1, 1, 1, 1, 1, 1, 1, 2, 1, 1, 2, 1, 1, 0, 1, 0, 1]\n",
      "length 900\n",
      "shortest tour [1, 0, 1, 1, 1, 2, 1, 1, 1, 1, 1, 1, 1, 1, 2, 1, 1, 2, 1, 1, 0, 1, 0, 1]\n",
      "length 900\n",
      "shortest tour [1, 1, 1, 1, 1, 1, 2, 1, 2, 2, 1, 2, 1, 1, 2, 1, 1, 1, 0, 1, 1, 1, 1, 0]\n",
      "length 600\n",
      "shortest tour [1, 1, 1, 1, 1, 1, 2, 1, 2, 2, 1, 2, 1, 1, 2, 1, 1, 1, 0, 1, 1, 1, 1, 0]\n",
      "length 600\n",
      "shortest tour [1, 1, 1, 1, 1, 1, 2, 1, 2, 2, 1, 2, 1, 1, 2, 1, 1, 1, 0, 1, 1, 1, 1, 0]\n",
      "length 600\n",
      "shortest tour [1, 1, 1, 1, 1, 1, 2, 1, 2, 2, 1, 2, 1, 1, 2, 1, 1, 1, 0, 1, 1, 1, 1, 0]\n",
      "length 600\n",
      "shortest tour [1, 1, 1, 1, 1, 1, 2, 1, 2, 2, 1, 2, 1, 1, 2, 1, 1, 1, 0, 1, 1, 1, 1, 0]\n",
      "length 600\n",
      "shortest tour [1, 1, 1, 1, 1, 1, 2, 1, 2, 2, 1, 2, 1, 1, 2, 1, 1, 1, 0, 1, 1, 1, 1, 0]\n",
      "length 600\n",
      "shortest tour [1, 1, 1, 1, 1, 1, 2, 1, 2, 2, 1, 2, 1, 1, 2, 1, 1, 1, 0, 1, 1, 1, 1, 0]\n",
      "length 600\n",
      "shortest tour [1, 1, 1, 1, 1, 1, 2, 1, 2, 2, 1, 2, 1, 1, 2, 1, 1, 1, 0, 1, 1, 1, 1, 0]\n",
      "length 600\n",
      "shortest tour [1, 1, 1, 1, 1, 1, 2, 1, 2, 2, 1, 2, 1, 1, 2, 1, 1, 1, 0, 1, 1, 1, 1, 0]\n",
      "length 600\n",
      "shortest tour [1, 1, 1, 1, 1, 1, 2, 1, 2, 2, 1, 2, 1, 1, 2, 1, 1, 1, 0, 1, 1, 1, 1, 0]\n",
      "length 600\n",
      "shortest tour [1, 1, 1, 1, 1, 1, 2, 1, 2, 2, 1, 2, 1, 1, 2, 1, 1, 1, 0, 1, 1, 1, 1, 0]\n",
      "length 600\n",
      "shortest tour [1, 1, 1, 1, 1, 1, 2, 1, 2, 2, 1, 2, 1, 1, 2, 1, 1, 1, 0, 1, 1, 1, 1, 0]\n",
      "length 600\n",
      "shortest tour [1, 1, 1, 1, 1, 1, 2, 1, 2, 2, 1, 2, 1, 1, 2, 1, 1, 1, 0, 1, 1, 1, 1, 0]\n",
      "length 600\n",
      "shortest tour [1, 1, 1, 1, 1, 1, 2, 1, 2, 2, 1, 2, 1, 1, 2, 1, 1, 1, 0, 1, 1, 1, 1, 0]\n",
      "length 600\n",
      "shortest tour [1, 1, 1, 1, 1, 1, 2, 1, 2, 2, 1, 2, 1, 1, 2, 1, 1, 1, 0, 1, 1, 1, 1, 0]\n",
      "length 600\n",
      "shortest tour [1, 1, 1, 1, 1, 1, 2, 1, 2, 2, 1, 2, 1, 1, 2, 1, 1, 1, 0, 1, 1, 1, 1, 0]\n",
      "length 600\n",
      "shortest tour [1, 1, 1, 1, 1, 1, 2, 1, 2, 2, 1, 2, 1, 1, 2, 1, 1, 1, 0, 1, 1, 1, 1, 0]\n",
      "length 600\n",
      "shortest tour [1, 1, 1, 1, 1, 1, 2, 1, 2, 2, 1, 2, 1, 1, 2, 1, 1, 1, 0, 1, 1, 1, 1, 0]\n",
      "length 600\n",
      "shortest tour [1, 1, 1, 1, 1, 1, 2, 1, 2, 2, 1, 2, 1, 1, 2, 1, 1, 1, 0, 1, 1, 1, 1, 0]\n",
      "length 600\n",
      "shortest tour [1, 1, 1, 1, 1, 1, 2, 1, 2, 2, 1, 2, 1, 1, 2, 1, 1, 1, 0, 1, 1, 1, 1, 0]\n",
      "length 600\n",
      "shortest tour [1, 1, 1, 1, 1, 1, 2, 1, 2, 2, 1, 2, 1, 1, 2, 1, 1, 1, 0, 1, 1, 1, 1, 0]\n",
      "length 600\n",
      "shortest tour [1, 1, 1, 1, 1, 1, 2, 1, 2, 2, 1, 2, 1, 1, 2, 1, 1, 1, 0, 1, 1, 1, 1, 0]\n",
      "length 600\n",
      "shortest tour [1, 1, 1, 1, 1, 1, 2, 1, 2, 2, 1, 2, 1, 1, 2, 1, 1, 1, 0, 1, 1, 1, 1, 0]\n",
      "length 600\n",
      "shortest tour [1, 1, 1, 1, 1, 1, 2, 1, 2, 2, 1, 2, 1, 1, 2, 1, 1, 1, 0, 1, 1, 1, 1, 0]\n",
      "length 600\n",
      "shortest tour [1, 1, 1, 1, 1, 1, 2, 1, 2, 2, 1, 2, 1, 1, 2, 1, 1, 1, 0, 1, 1, 1, 1, 0]\n",
      "length 600\n",
      "shortest tour [1, 1, 1, 1, 1, 1, 2, 1, 2, 2, 1, 2, 1, 1, 2, 1, 1, 1, 0, 1, 1, 1, 1, 0]\n",
      "length 600\n",
      "shortest tour [1, 1, 1, 1, 1, 1, 2, 1, 2, 2, 1, 2, 1, 1, 2, 1, 1, 1, 0, 1, 1, 1, 1, 0]\n",
      "length 600\n",
      "shortest tour [1, 1, 1, 1, 1, 1, 2, 1, 2, 2, 1, 2, 1, 1, 2, 1, 1, 1, 0, 1, 1, 1, 1, 0]\n",
      "length 600\n",
      "shortest tour [1, 1, 1, 1, 1, 1, 2, 1, 2, 2, 1, 2, 1, 1, 2, 1, 1, 1, 0, 1, 1, 1, 1, 0]\n",
      "length 600\n",
      "shortest tour [1, 1, 1, 1, 1, 2, 2, 2, 1, 1, 1, 2, 1, 1, 1, 2, 2, 0, 1, 1, 1, 1, 1, 0]\n",
      "length 600\n",
      "shortest tour [1, 1, 1, 1, 1, 2, 2, 2, 1, 1, 1, 2, 1, 1, 1, 2, 2, 0, 1, 1, 1, 1, 1, 0]\n",
      "length 600\n",
      "shortest tour [1, 1, 1, 1, 1, 2, 2, 2, 1, 1, 1, 2, 1, 1, 1, 2, 2, 0, 1, 1, 1, 1, 1, 0]\n",
      "length 600\n",
      "shortest tour [1, 1, 1, 1, 1, 2, 2, 2, 1, 1, 1, 2, 1, 1, 1, 2, 2, 0, 1, 1, 1, 1, 1, 0]\n",
      "length 600\n",
      "shortest tour [1, 1, 1, 1, 1, 2, 2, 2, 1, 1, 1, 2, 1, 1, 1, 2, 2, 0, 1, 1, 1, 1, 1, 0]\n",
      "length 600\n",
      "shortest tour [1, 1, 1, 1, 1, 2, 2, 2, 1, 1, 1, 2, 1, 1, 1, 2, 2, 0, 1, 1, 1, 1, 1, 0]\n",
      "length 600\n",
      "shortest tour [1, 1, 1, 1, 1, 2, 2, 2, 1, 1, 1, 2, 1, 1, 1, 2, 2, 0, 1, 1, 1, 1, 1, 0]\n",
      "length 600\n",
      "shortest tour [1, 1, 1, 1, 1, 2, 2, 2, 1, 1, 1, 2, 1, 1, 1, 2, 2, 0, 1, 1, 1, 1, 1, 0]\n",
      "length 600\n"
     ]
    }
   ],
   "source": [
    "shortest_tour_length = float('inf')\n",
    "all_solutions = np.empty((0, 2))\n",
    "lowestCostValues = []\n",
    "\n",
    "for i in range(0, max_iterations):\n",
    "    # create the tours for all ants\n",
    "    tours = create_colony(num_ants)\n",
    "\n",
    "    # calculate the tour length for each tour\n",
    "    tour_lengths = []\n",
    "    for schedule in tours:\n",
    "        total_cost = 0\n",
    "        for interval_mode_tour in schedule:\n",
    "            # print(interval_mode_tour)\n",
    "            total_cost += cost_table[interval_mode_tour]\n",
    "        # print(total_cost)\n",
    "        if total_cost <= shortest_tour_length:\n",
    "            shortest_tour_length = total_cost\n",
    "            best_tour = schedule\n",
    "        tour_lengths.append(total_cost)\n",
    "        tour_and_distance = list(zip((tours, tour_lengths)))\n",
    "    print(f'shortest tour {best_tour}')\n",
    "    print(f'length {shortest_tour_length}')\n",
    "    lowestCostValues.append(shortest_tour_length)\n",
    "        \n",
    "    # update the pheromone matrix and evaporate\n",
    "    interval_start = 0\n",
    "    for interval in best_tour:\n",
    "        for intervals in schedule_map:\n",
    "            if intervals[0] == interval_start and intervals[1] == interval:\n",
    "                intervals = (intervals[0], intervals[1], intervals[2]+alpha) \n",
    "            intervals = (intervals[0], intervals[1], intervals[2]*(1-rho))\n",
    "        interval_start += 1\n"
   ]
  },
  {
   "cell_type": "markdown",
   "metadata": {},
   "source": [
    "### Plot"
   ]
  },
  {
   "cell_type": "code",
   "execution_count": 193,
   "metadata": {},
   "outputs": [
    {
     "data": {
      "image/png": "[encoded data removed]",
      "text/plain": [
       "<Figure size 432x288 with 1 Axes>"
      ]
     },
     "metadata": {
      "needs_background": "light"
     },
     "output_type": "display_data"
    }
   ],
   "source": [
    "plt.plot(lowestCostValues, color='red')\n",
    "plt.xlabel('Generation')\n",
    "plt.ylabel('Cost')\n",
    "plt.title('Cost per day')\n",
    "plt.show()\n"
   ]
  }
 ],
 "metadata": {
  "kernelspec": {
   "display_name": "Python 3",
   "language": "python",
   "name": "python3"
  },
  "language_info": {
   "codemirror_mode": {
    "name": "ipython",
    "version": 3
   },
   "file_extension": ".py",
   "mimetype": "text/x-python",
   "name": "python",
   "nbconvert_exporter": "python",
   "pygments_lexer": "ipython3",
   "version": "3.8.8"
  }
 },
 "nbformat": 4,
 "nbformat_minor": 4
}
